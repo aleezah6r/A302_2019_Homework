{
 "cells": [
  {
   "cell_type": "markdown",
   "metadata": {},
   "source": [
    "## Homework: Write a Calculator module\n",
    "### Due Tuesday Jan 22nd\n",
    "Problem: write a Python module named calc with a class Calculator that will emulate a simple calculator capabile of addition, subtraction, multiplication, division, and clearing the state (setting it to zero). It must have methods for all these operations, named add(), sub(), mul(), div(), and clr(), respectivelly.\n",
    "\n",
    "Write the Calculator class to that it implements the method chaining programming pattern.\n",
    "\n",
    "Finally, make sure the class and all of its methods are properly documented with documentation strings (\"docstrings\") following proper conventions.\n",
    "\n",
    "This module (and the class it contains) should work as a drop-in for the following program:"
   ]
  },
  {
   "cell_type": "code",
   "execution_count": 11,
   "metadata": {
    "collapsed": true
   },
   "outputs": [],
   "source": [
    "class Calculator:\n",
    "    '''\n",
    "    functions that together make a dimple calculator including the following operations:\n",
    "    addition, subtraction, multiplication, division, and clearing.\n",
    "    '''\n",
    "    def __init__(self, number=0):\n",
    "        '''Create the calculator'''\n",
    "        self.number = number\n",
    "        \n",
    "    def add(self, val_add):\n",
    "        '''Addition funtion'''\n",
    "        self.number = val_add + self.number\n",
    "        return self\n",
    "    \n",
    "    def sub(self, val_sub):\n",
    "        '''Subtraction function'''\n",
    "        self.number = self.number - val_sub \n",
    "        return self \n",
    "    \n",
    "    def mul(self, val_mult):\n",
    "        '''Multiplication function'''\n",
    "        self.number = val_mult *  self.number \n",
    "        return self \n",
    "    \n",
    "    def div(self, val_div):\n",
    "        '''Division function'''\n",
    "        self.number = self.number / val_div\n",
    "        return self \n",
    "    \n",
    "    def clr(self, val_clear):\n",
    "        '''Clear the calculator back to zero'''\n",
    "        self.number = 0\n",
    "        return self \n",
    "    \n",
    "    def result(self):\n",
    "        '''Return the result'''\n",
    "        return self.number"
   ]
  },
  {
   "cell_type": "markdown",
   "metadata": {},
   "source": [
    "Test calculator using code in test_calc.py"
   ]
  },
  {
   "cell_type": "code",
   "execution_count": 15,
   "metadata": {},
   "outputs": [
    {
     "name": "stdout",
     "output_type": "stream",
     "text": [
      "All tests passed! You have a working calculator!\n"
     ]
    }
   ],
   "source": [
    "def assertAlmostEqual(a, b):\n",
    "    \"\"\" A function that tests the approximate equality of two floating point numbers. \"\"\"\n",
    "    assert round(a-b, 7) == 0, \"{} is not equal to {}.\".format(a, b)\n",
    "\n",
    "c1 = Calculator()\t# Create an instance of a calculator\n",
    "c2 = Calculator(50)\t# Create another calculator, initialized with 50\n",
    "\n",
    "# Test individual methods, and that the two instances properly\n",
    "# track their own state.\n",
    "c1.add(2);           assertAlmostEqual(c1.result(), 2)\n",
    "c1.mul(4);           assertAlmostEqual(c1.result(), 8)\n",
    "c2.add(50);          assertAlmostEqual(c2.result(), 100)\n",
    "c1.div(8);           assertAlmostEqual(c1.result(), 1)\n",
    "c1.sub(-3.);         assertAlmostEqual(c1.result(), 4)\n",
    "c2.div(c1.result()); assertAlmostEqual(c2.result(), 25)\n",
    "\n",
    "print (\"All tests passed! You have a working calculator!\")"
   ]
  },
  {
   "cell_type": "code",
   "execution_count": null,
   "metadata": {
    "collapsed": true
   },
   "outputs": [],
   "source": []
  }
 ],
 "metadata": {
  "kernelspec": {
   "display_name": "Python 2",
   "language": "python",
   "name": "python2"
  },
  "language_info": {
   "codemirror_mode": {
    "name": "ipython",
    "version": 2
   },
   "file_extension": ".py",
   "mimetype": "text/x-python",
   "name": "python",
   "nbconvert_exporter": "python",
   "pygments_lexer": "ipython2",
   "version": "2.7.14"
  }
 },
 "nbformat": 4,
 "nbformat_minor": 2
}
